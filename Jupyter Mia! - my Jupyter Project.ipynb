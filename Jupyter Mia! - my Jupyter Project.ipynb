{
  "nbformat": 4,
  "nbformat_minor": 0,
  "metadata": {
    "colab": {
      "provenance": []
    },
    "kernelspec": {
      "name": "python3",
      "display_name": "Python 3"
    },
    "language_info": {
      "name": "python"
    }
  },
  "cells": [
    {
      "cell_type": "markdown",
      "source": [
        "# *Jupyter Mia!* - my Jupyter Project"
      ],
      "metadata": {
        "id": "D5oQsNsxvOpb"
      }
    },
    {
      "cell_type": "markdown",
      "source": [
        "**Web Scraping and Linguistic Analysis**"
      ],
      "metadata": {
        "id": "Pe0fbXHw11iA"
      }
    },
    {
      "cell_type": "markdown",
      "source": [
        "In my *Jupyter Mia!* project, I used Python to perform linguistic analysis of the [script](https://pdfcoffee.com/mamma-mia-the-musical-script-pdf-free.html) of Mamma Mia! musical from 1999. I utilized the **requests** and **BeautifulSoup** libraries to extract content from a specific URL through web scraping. Additionally, I employed the **Natural Language Toolkit (NLTK)** library to handle various language processing tasks:\n",
        "*   Tokenization and POS Tagging\n",
        "*   POS tag frequency analysis\n",
        "*   Word frequency analysis\n",
        "*   Word length analysis"
      ],
      "metadata": {
        "id": "1iQQIGH0vrIX"
      }
    },
    {
      "cell_type": "markdown",
      "source": [
        "# βήμα πρώτο - step one\n",
        "\n",
        "Let me import the modules"
      ],
      "metadata": {
        "id": "RYgoZLVr2ocX"
      }
    },
    {
      "cell_type": "markdown",
      "source": [
        "As my *το πρώτο βήμα*  of the analysis, I have to import the required modules:"
      ],
      "metadata": {
        "id": "5nVAYBIj6N51"
      }
    },
    {
      "cell_type": "code",
      "source": [
        "import requests\n",
        "from bs4 import BeautifulSoup\n",
        "import nltk\n",
        "nltk.download('all')\n",
        "from collections import Counter\n",
        "import re\n",
        "import matplotlib.pyplot as plt"
      ],
      "metadata": {
        "id": "X83Ulffb6yy5",
        "colab": {
          "base_uri": "https://localhost:8080/"
        },
        "collapsed": true,
        "outputId": "a4d730dc-ea31-40b6-f918-6de71fd1fc97"
      },
      "execution_count": 1,
      "outputs": [
        {
          "output_type": "stream",
          "name": "stderr",
          "text": [
            "[nltk_data] Downloading collection 'all'\n",
            "[nltk_data]    | \n",
            "[nltk_data]    | Downloading package abc to /root/nltk_data...\n",
            "[nltk_data]    |   Unzipping corpora/abc.zip.\n",
            "[nltk_data]    | Downloading package alpino to /root/nltk_data...\n",
            "[nltk_data]    |   Unzipping corpora/alpino.zip.\n",
            "[nltk_data]    | Downloading package averaged_perceptron_tagger to\n",
            "[nltk_data]    |     /root/nltk_data...\n",
            "[nltk_data]    |   Unzipping taggers/averaged_perceptron_tagger.zip.\n",
            "[nltk_data]    | Downloading package averaged_perceptron_tagger_ru to\n",
            "[nltk_data]    |     /root/nltk_data...\n",
            "[nltk_data]    |   Unzipping\n",
            "[nltk_data]    |       taggers/averaged_perceptron_tagger_ru.zip.\n",
            "[nltk_data]    | Downloading package basque_grammars to\n",
            "[nltk_data]    |     /root/nltk_data...\n",
            "[nltk_data]    |   Unzipping grammars/basque_grammars.zip.\n",
            "[nltk_data]    | Downloading package bcp47 to /root/nltk_data...\n",
            "[nltk_data]    | Downloading package biocreative_ppi to\n",
            "[nltk_data]    |     /root/nltk_data...\n",
            "[nltk_data]    |   Unzipping corpora/biocreative_ppi.zip.\n",
            "[nltk_data]    | Downloading package bllip_wsj_no_aux to\n",
            "[nltk_data]    |     /root/nltk_data...\n",
            "[nltk_data]    |   Unzipping models/bllip_wsj_no_aux.zip.\n",
            "[nltk_data]    | Downloading package book_grammars to\n",
            "[nltk_data]    |     /root/nltk_data...\n",
            "[nltk_data]    |   Unzipping grammars/book_grammars.zip.\n",
            "[nltk_data]    | Downloading package brown to /root/nltk_data...\n",
            "[nltk_data]    |   Unzipping corpora/brown.zip.\n",
            "[nltk_data]    | Downloading package brown_tei to /root/nltk_data...\n",
            "[nltk_data]    |   Unzipping corpora/brown_tei.zip.\n",
            "[nltk_data]    | Downloading package cess_cat to /root/nltk_data...\n",
            "[nltk_data]    |   Unzipping corpora/cess_cat.zip.\n",
            "[nltk_data]    | Downloading package cess_esp to /root/nltk_data...\n",
            "[nltk_data]    |   Unzipping corpora/cess_esp.zip.\n",
            "[nltk_data]    | Downloading package chat80 to /root/nltk_data...\n",
            "[nltk_data]    |   Unzipping corpora/chat80.zip.\n",
            "[nltk_data]    | Downloading package city_database to\n",
            "[nltk_data]    |     /root/nltk_data...\n",
            "[nltk_data]    |   Unzipping corpora/city_database.zip.\n",
            "[nltk_data]    | Downloading package cmudict to /root/nltk_data...\n",
            "[nltk_data]    |   Unzipping corpora/cmudict.zip.\n",
            "[nltk_data]    | Downloading package comparative_sentences to\n",
            "[nltk_data]    |     /root/nltk_data...\n",
            "[nltk_data]    |   Unzipping corpora/comparative_sentences.zip.\n",
            "[nltk_data]    | Downloading package comtrans to /root/nltk_data...\n",
            "[nltk_data]    | Downloading package conll2000 to /root/nltk_data...\n",
            "[nltk_data]    |   Unzipping corpora/conll2000.zip.\n",
            "[nltk_data]    | Downloading package conll2002 to /root/nltk_data...\n",
            "[nltk_data]    |   Unzipping corpora/conll2002.zip.\n",
            "[nltk_data]    | Downloading package conll2007 to /root/nltk_data...\n",
            "[nltk_data]    | Downloading package crubadan to /root/nltk_data...\n",
            "[nltk_data]    |   Unzipping corpora/crubadan.zip.\n",
            "[nltk_data]    | Downloading package dependency_treebank to\n",
            "[nltk_data]    |     /root/nltk_data...\n",
            "[nltk_data]    |   Unzipping corpora/dependency_treebank.zip.\n",
            "[nltk_data]    | Downloading package dolch to /root/nltk_data...\n",
            "[nltk_data]    |   Unzipping corpora/dolch.zip.\n",
            "[nltk_data]    | Downloading package europarl_raw to\n",
            "[nltk_data]    |     /root/nltk_data...\n",
            "[nltk_data]    |   Unzipping corpora/europarl_raw.zip.\n",
            "[nltk_data]    | Downloading package extended_omw to\n",
            "[nltk_data]    |     /root/nltk_data...\n",
            "[nltk_data]    | Downloading package floresta to /root/nltk_data...\n",
            "[nltk_data]    |   Unzipping corpora/floresta.zip.\n",
            "[nltk_data]    | Downloading package framenet_v15 to\n",
            "[nltk_data]    |     /root/nltk_data...\n",
            "[nltk_data]    |   Unzipping corpora/framenet_v15.zip.\n",
            "[nltk_data]    | Downloading package framenet_v17 to\n",
            "[nltk_data]    |     /root/nltk_data...\n",
            "[nltk_data]    |   Unzipping corpora/framenet_v17.zip.\n",
            "[nltk_data]    | Downloading package gazetteers to /root/nltk_data...\n",
            "[nltk_data]    |   Unzipping corpora/gazetteers.zip.\n",
            "[nltk_data]    | Downloading package genesis to /root/nltk_data...\n",
            "[nltk_data]    |   Unzipping corpora/genesis.zip.\n",
            "[nltk_data]    | Downloading package gutenberg to /root/nltk_data...\n",
            "[nltk_data]    |   Unzipping corpora/gutenberg.zip.\n",
            "[nltk_data]    | Downloading package ieer to /root/nltk_data...\n",
            "[nltk_data]    |   Unzipping corpora/ieer.zip.\n",
            "[nltk_data]    | Downloading package inaugural to /root/nltk_data...\n",
            "[nltk_data]    |   Unzipping corpora/inaugural.zip.\n",
            "[nltk_data]    | Downloading package indian to /root/nltk_data...\n",
            "[nltk_data]    |   Unzipping corpora/indian.zip.\n",
            "[nltk_data]    | Downloading package jeita to /root/nltk_data...\n",
            "[nltk_data]    | Downloading package kimmo to /root/nltk_data...\n",
            "[nltk_data]    |   Unzipping corpora/kimmo.zip.\n",
            "[nltk_data]    | Downloading package knbc to /root/nltk_data...\n",
            "[nltk_data]    | Downloading package large_grammars to\n",
            "[nltk_data]    |     /root/nltk_data...\n",
            "[nltk_data]    |   Unzipping grammars/large_grammars.zip.\n",
            "[nltk_data]    | Downloading package lin_thesaurus to\n",
            "[nltk_data]    |     /root/nltk_data...\n",
            "[nltk_data]    |   Unzipping corpora/lin_thesaurus.zip.\n",
            "[nltk_data]    | Downloading package mac_morpho to /root/nltk_data...\n",
            "[nltk_data]    |   Unzipping corpora/mac_morpho.zip.\n",
            "[nltk_data]    | Downloading package machado to /root/nltk_data...\n",
            "[nltk_data]    | Downloading package masc_tagged to /root/nltk_data...\n",
            "[nltk_data]    | Downloading package maxent_ne_chunker to\n",
            "[nltk_data]    |     /root/nltk_data...\n",
            "[nltk_data]    |   Unzipping chunkers/maxent_ne_chunker.zip.\n",
            "[nltk_data]    | Downloading package maxent_treebank_pos_tagger to\n",
            "[nltk_data]    |     /root/nltk_data...\n",
            "[nltk_data]    |   Unzipping taggers/maxent_treebank_pos_tagger.zip.\n",
            "[nltk_data]    | Downloading package moses_sample to\n",
            "[nltk_data]    |     /root/nltk_data...\n",
            "[nltk_data]    |   Unzipping models/moses_sample.zip.\n",
            "[nltk_data]    | Downloading package movie_reviews to\n",
            "[nltk_data]    |     /root/nltk_data...\n",
            "[nltk_data]    |   Unzipping corpora/movie_reviews.zip.\n",
            "[nltk_data]    | Downloading package mte_teip5 to /root/nltk_data...\n",
            "[nltk_data]    |   Unzipping corpora/mte_teip5.zip.\n",
            "[nltk_data]    | Downloading package mwa_ppdb to /root/nltk_data...\n",
            "[nltk_data]    |   Unzipping misc/mwa_ppdb.zip.\n",
            "[nltk_data]    | Downloading package names to /root/nltk_data...\n",
            "[nltk_data]    |   Unzipping corpora/names.zip.\n",
            "[nltk_data]    | Downloading package nombank.1.0 to /root/nltk_data...\n",
            "[nltk_data]    | Downloading package nonbreaking_prefixes to\n",
            "[nltk_data]    |     /root/nltk_data...\n",
            "[nltk_data]    |   Unzipping corpora/nonbreaking_prefixes.zip.\n",
            "[nltk_data]    | Downloading package nps_chat to /root/nltk_data...\n",
            "[nltk_data]    |   Unzipping corpora/nps_chat.zip.\n",
            "[nltk_data]    | Downloading package omw to /root/nltk_data...\n",
            "[nltk_data]    | Downloading package omw-1.4 to /root/nltk_data...\n",
            "[nltk_data]    | Downloading package opinion_lexicon to\n",
            "[nltk_data]    |     /root/nltk_data...\n",
            "[nltk_data]    |   Unzipping corpora/opinion_lexicon.zip.\n",
            "[nltk_data]    | Downloading package panlex_swadesh to\n",
            "[nltk_data]    |     /root/nltk_data...\n",
            "[nltk_data]    | Downloading package paradigms to /root/nltk_data...\n",
            "[nltk_data]    |   Unzipping corpora/paradigms.zip.\n",
            "[nltk_data]    | Downloading package pe08 to /root/nltk_data...\n",
            "[nltk_data]    |   Unzipping corpora/pe08.zip.\n",
            "[nltk_data]    | Downloading package perluniprops to\n",
            "[nltk_data]    |     /root/nltk_data...\n",
            "[nltk_data]    |   Unzipping misc/perluniprops.zip.\n",
            "[nltk_data]    | Downloading package pil to /root/nltk_data...\n",
            "[nltk_data]    |   Unzipping corpora/pil.zip.\n",
            "[nltk_data]    | Downloading package pl196x to /root/nltk_data...\n",
            "[nltk_data]    |   Unzipping corpora/pl196x.zip.\n",
            "[nltk_data]    | Downloading package porter_test to /root/nltk_data...\n",
            "[nltk_data]    |   Unzipping stemmers/porter_test.zip.\n",
            "[nltk_data]    | Downloading package ppattach to /root/nltk_data...\n",
            "[nltk_data]    |   Unzipping corpora/ppattach.zip.\n",
            "[nltk_data]    | Downloading package problem_reports to\n",
            "[nltk_data]    |     /root/nltk_data...\n",
            "[nltk_data]    |   Unzipping corpora/problem_reports.zip.\n",
            "[nltk_data]    | Downloading package product_reviews_1 to\n",
            "[nltk_data]    |     /root/nltk_data...\n",
            "[nltk_data]    |   Unzipping corpora/product_reviews_1.zip.\n",
            "[nltk_data]    | Downloading package product_reviews_2 to\n",
            "[nltk_data]    |     /root/nltk_data...\n",
            "[nltk_data]    |   Unzipping corpora/product_reviews_2.zip.\n",
            "[nltk_data]    | Downloading package propbank to /root/nltk_data...\n",
            "[nltk_data]    | Downloading package pros_cons to /root/nltk_data...\n",
            "[nltk_data]    |   Unzipping corpora/pros_cons.zip.\n",
            "[nltk_data]    | Downloading package ptb to /root/nltk_data...\n",
            "[nltk_data]    |   Unzipping corpora/ptb.zip.\n",
            "[nltk_data]    | Downloading package punkt to /root/nltk_data...\n",
            "[nltk_data]    |   Unzipping tokenizers/punkt.zip.\n",
            "[nltk_data]    | Downloading package qc to /root/nltk_data...\n",
            "[nltk_data]    |   Unzipping corpora/qc.zip.\n",
            "[nltk_data]    | Downloading package reuters to /root/nltk_data...\n",
            "[nltk_data]    | Downloading package rslp to /root/nltk_data...\n",
            "[nltk_data]    |   Unzipping stemmers/rslp.zip.\n",
            "[nltk_data]    | Downloading package rte to /root/nltk_data...\n",
            "[nltk_data]    |   Unzipping corpora/rte.zip.\n",
            "[nltk_data]    | Downloading package sample_grammars to\n",
            "[nltk_data]    |     /root/nltk_data...\n",
            "[nltk_data]    |   Unzipping grammars/sample_grammars.zip.\n",
            "[nltk_data]    | Downloading package semcor to /root/nltk_data...\n",
            "[nltk_data]    | Downloading package senseval to /root/nltk_data...\n",
            "[nltk_data]    |   Unzipping corpora/senseval.zip.\n",
            "[nltk_data]    | Downloading package sentence_polarity to\n",
            "[nltk_data]    |     /root/nltk_data...\n",
            "[nltk_data]    |   Unzipping corpora/sentence_polarity.zip.\n",
            "[nltk_data]    | Downloading package sentiwordnet to\n",
            "[nltk_data]    |     /root/nltk_data...\n",
            "[nltk_data]    |   Unzipping corpora/sentiwordnet.zip.\n",
            "[nltk_data]    | Downloading package shakespeare to /root/nltk_data...\n",
            "[nltk_data]    |   Unzipping corpora/shakespeare.zip.\n",
            "[nltk_data]    | Downloading package sinica_treebank to\n",
            "[nltk_data]    |     /root/nltk_data...\n",
            "[nltk_data]    |   Unzipping corpora/sinica_treebank.zip.\n",
            "[nltk_data]    | Downloading package smultron to /root/nltk_data...\n",
            "[nltk_data]    |   Unzipping corpora/smultron.zip.\n",
            "[nltk_data]    | Downloading package snowball_data to\n",
            "[nltk_data]    |     /root/nltk_data...\n",
            "[nltk_data]    | Downloading package spanish_grammars to\n",
            "[nltk_data]    |     /root/nltk_data...\n",
            "[nltk_data]    |   Unzipping grammars/spanish_grammars.zip.\n",
            "[nltk_data]    | Downloading package state_union to /root/nltk_data...\n",
            "[nltk_data]    |   Unzipping corpora/state_union.zip.\n",
            "[nltk_data]    | Downloading package stopwords to /root/nltk_data...\n",
            "[nltk_data]    |   Unzipping corpora/stopwords.zip.\n",
            "[nltk_data]    | Downloading package subjectivity to\n",
            "[nltk_data]    |     /root/nltk_data...\n",
            "[nltk_data]    |   Unzipping corpora/subjectivity.zip.\n",
            "[nltk_data]    | Downloading package swadesh to /root/nltk_data...\n",
            "[nltk_data]    |   Unzipping corpora/swadesh.zip.\n",
            "[nltk_data]    | Downloading package switchboard to /root/nltk_data...\n",
            "[nltk_data]    |   Unzipping corpora/switchboard.zip.\n",
            "[nltk_data]    | Downloading package tagsets to /root/nltk_data...\n",
            "[nltk_data]    |   Unzipping help/tagsets.zip.\n",
            "[nltk_data]    | Downloading package timit to /root/nltk_data...\n",
            "[nltk_data]    |   Unzipping corpora/timit.zip.\n",
            "[nltk_data]    | Downloading package toolbox to /root/nltk_data...\n",
            "[nltk_data]    |   Unzipping corpora/toolbox.zip.\n",
            "[nltk_data]    | Downloading package treebank to /root/nltk_data...\n",
            "[nltk_data]    |   Unzipping corpora/treebank.zip.\n",
            "[nltk_data]    | Downloading package twitter_samples to\n",
            "[nltk_data]    |     /root/nltk_data...\n",
            "[nltk_data]    |   Unzipping corpora/twitter_samples.zip.\n",
            "[nltk_data]    | Downloading package udhr to /root/nltk_data...\n",
            "[nltk_data]    |   Unzipping corpora/udhr.zip.\n",
            "[nltk_data]    | Downloading package udhr2 to /root/nltk_data...\n",
            "[nltk_data]    |   Unzipping corpora/udhr2.zip.\n",
            "[nltk_data]    | Downloading package unicode_samples to\n",
            "[nltk_data]    |     /root/nltk_data...\n",
            "[nltk_data]    |   Unzipping corpora/unicode_samples.zip.\n",
            "[nltk_data]    | Downloading package universal_tagset to\n",
            "[nltk_data]    |     /root/nltk_data...\n",
            "[nltk_data]    |   Unzipping taggers/universal_tagset.zip.\n",
            "[nltk_data]    | Downloading package universal_treebanks_v20 to\n",
            "[nltk_data]    |     /root/nltk_data...\n",
            "[nltk_data]    | Downloading package vader_lexicon to\n",
            "[nltk_data]    |     /root/nltk_data...\n",
            "[nltk_data]    | Downloading package verbnet to /root/nltk_data...\n",
            "[nltk_data]    |   Unzipping corpora/verbnet.zip.\n",
            "[nltk_data]    | Downloading package verbnet3 to /root/nltk_data...\n",
            "[nltk_data]    |   Unzipping corpora/verbnet3.zip.\n",
            "[nltk_data]    | Downloading package webtext to /root/nltk_data...\n",
            "[nltk_data]    |   Unzipping corpora/webtext.zip.\n",
            "[nltk_data]    | Downloading package wmt15_eval to /root/nltk_data...\n",
            "[nltk_data]    |   Unzipping models/wmt15_eval.zip.\n",
            "[nltk_data]    | Downloading package word2vec_sample to\n",
            "[nltk_data]    |     /root/nltk_data...\n",
            "[nltk_data]    |   Unzipping models/word2vec_sample.zip.\n",
            "[nltk_data]    | Downloading package wordnet to /root/nltk_data...\n",
            "[nltk_data]    | Downloading package wordnet2021 to /root/nltk_data...\n",
            "[nltk_data]    | Downloading package wordnet2022 to /root/nltk_data...\n",
            "[nltk_data]    |   Unzipping corpora/wordnet2022.zip.\n",
            "[nltk_data]    | Downloading package wordnet31 to /root/nltk_data...\n",
            "[nltk_data]    | Downloading package wordnet_ic to /root/nltk_data...\n",
            "[nltk_data]    |   Unzipping corpora/wordnet_ic.zip.\n",
            "[nltk_data]    | Downloading package words to /root/nltk_data...\n",
            "[nltk_data]    |   Unzipping corpora/words.zip.\n",
            "[nltk_data]    | Downloading package ycoe to /root/nltk_data...\n",
            "[nltk_data]    |   Unzipping corpora/ycoe.zip.\n",
            "[nltk_data]    | \n",
            "[nltk_data]  Done downloading collection all\n"
          ]
        }
      ]
    },
    {
      "cell_type": "markdown",
      "source": [
        "I used **Requests** and **BeautifulSoup** to enable web scraping.\n",
        "\n",
        "**Counter**, **nltk** to enable data analysis and **matplotlib** to create a chart."
      ],
      "metadata": {
        "id": "GrM2kD-Z7Pte"
      }
    },
    {
      "cell_type": "markdown",
      "source": [
        "# βήμα δυο - step two\n",
        "\n",
        "Let's do some web scraping"
      ],
      "metadata": {
        "id": "pJ4O-yHW3yDC"
      }
    },
    {
      "cell_type": "code",
      "source": [
        "page = requests.get(\"https://pdfcoffee.com/mamma-mia-the-musical-script-pdf-free.html\")\n",
        "\n",
        "soup = BeautifulSoup(page.content, 'html.parser')\n",
        "\n",
        "paragraphs = soup.find_all('p')\n",
        "\n",
        "only_text = []\n",
        "\n",
        "for el in paragraphs:\n",
        "    if len(el.getText().strip()) > 0:\n",
        "        only_text.append(el.getText())"
      ],
      "metadata": {
        "id": "t9YfMnlc7-oi"
      },
      "execution_count": 2,
      "outputs": []
    },
    {
      "cell_type": "markdown",
      "source": [
        "The text explains that **Requests** is used to fetch text from a provided website address and **BeautifulSoup** is used to parse the HTML content. It then finds all paragraph elements using **soup.find_all(\"p\")** and adds the text to a list after removing any unnecessary spaces."
      ],
      "metadata": {
        "id": "vQPSNfudCT_-"
      }
    },
    {
      "cell_type": "markdown",
      "source": [
        "# βήμα τρίτο - step three\n",
        "\n",
        "Now some tokenization and part-of-speech tagging"
      ],
      "metadata": {
        "id": "oj1bO9vA31dZ"
      }
    },
    {
      "cell_type": "code",
      "source": [
        "pos_tagged_tokens = []\n",
        "\n",
        "for sentence in only_text:\n",
        "    tokens = nltk.word_tokenize(sentence)\n",
        "    pos_tagged = nltk.pos_tag(tokens)\n",
        "    for item in pos_tagged:\n",
        "        pos_tagged_tokens.append(item)"
      ],
      "metadata": {
        "id": "tJLn6x6JC6Vl"
      },
      "execution_count": 3,
      "outputs": []
    },
    {
      "cell_type": "markdown",
      "source": [
        "Next, the text is tokenized into words using **nltk.word_tokenize()** and then tagged for parts of speech using **nltk.pos_tag()**. The resulting POS tags are stored in a list."
      ],
      "metadata": {
        "id": "TEXUX61oCy4d"
      }
    },
    {
      "cell_type": "markdown",
      "source": [
        "# βήμα τέταρτο - step four\n",
        "\n",
        "How often particular POS Tag occur?"
      ],
      "metadata": {
        "id": "QArKWXc531qY"
      }
    },
    {
      "cell_type": "code",
      "source": [
        "pos_tags_list = [tag for word, tag in pos_tagged_tokens]\n",
        "pos_tag_counts = Counter(pos_tags_list)\n",
        "print(pos_tag_counts)"
      ],
      "metadata": {
        "colab": {
          "base_uri": "https://localhost:8080/"
        },
        "id": "LfPgBYfVEVMQ",
        "outputId": "873037c7-b5ec-494f-b07e-30aaecb9ca52"
      },
      "execution_count": 4,
      "outputs": [
        {
          "output_type": "stream",
          "name": "stdout",
          "text": [
            "Counter({'NNP': 7076, 'NN': 1586, 'PRP': 1454, '.': 1185, 'VBP': 942, 'IN': 701, 'DT': 670, ':': 664, ',': 655, 'JJ': 617, 'RB': 545, 'VB': 511, 'VBD': 375, 'VBZ': 285, 'NNS': 270, 'CC': 245, 'PRP$': 197, 'TO': 196, '(': 189, ')': 188, 'VBG': 147, 'VBN': 135, 'CD': 129, 'WP': 120, 'MD': 101, 'UH': 94, 'RP': 73, 'WRB': 73, 'JJR': 25, \"''\": 14, 'PDT': 14, 'WDT': 11, 'EX': 10, '#': 8, 'JJS': 8, 'RBR': 6, 'FW': 5, 'NNPS': 5, '$': 2, '``': 1, 'POS': 1, 'SYM': 1})\n"
          ]
        }
      ]
    },
    {
      "cell_type": "markdown",
      "source": [
        "I used **Counter** to count the occurrence of each Part-of-Speech tag."
      ],
      "metadata": {
        "id": "atRMCpBLhtdQ"
      }
    },
    {
      "cell_type": "markdown",
      "source": [
        "To display only 7 most common parts of speech, I used **.most_common(7)** method.\n",
        "\n",
        "I decided to colour the bars **deep sky blue**, if you know the musical, the reason is quite obvious!"
      ],
      "metadata": {
        "id": "dm8jJYyrh87I"
      }
    },
    {
      "cell_type": "code",
      "source": [
        "most_common_pos = pos_tag_counts.most_common(7)\n",
        "print(most_common_pos)\n",
        "tags, counts = zip(*most_common_pos)\n",
        "plt.bar(tags[0:8], counts[0:8], color = \"deepskyblue\")"
      ],
      "metadata": {
        "colab": {
          "base_uri": "https://localhost:8080/",
          "height": 465
        },
        "id": "ECegnfmkJHUO",
        "outputId": "05e8a277-2618-42de-9c81-c85396a92fcd"
      },
      "execution_count": 5,
      "outputs": [
        {
          "output_type": "stream",
          "name": "stdout",
          "text": [
            "[('NNP', 7076), ('NN', 1586), ('PRP', 1454), ('.', 1185), ('VBP', 942), ('IN', 701), ('DT', 670)]\n"
          ]
        },
        {
          "output_type": "execute_result",
          "data": {
            "text/plain": [
              "<BarContainer object of 7 artists>"
            ]
          },
          "metadata": {},
          "execution_count": 5
        },
        {
          "output_type": "display_data",
          "data": {
            "text/plain": [
              "<Figure size 640x480 with 1 Axes>"
            ],
            "image/png": "[encoded data removed]"
          },
          "metadata": {}
        }
      ]
    },
    {
      "cell_type": "markdown",
      "source": [
        "The seven most common POS tags and their counts are paired using **zip(most_common_pos)**, and a bar graph is displayed using **plt.bar()**."
      ],
      "metadata": {
        "id": "_wJamypLi8fn"
      }
    },
    {
      "cell_type": "markdown",
      "source": [
        "# βήμα πέντε - step five\n",
        "\n",
        "And now, how often particular words occur?"
      ],
      "metadata": {
        "id": "-JE0_IS6311r"
      }
    },
    {
      "cell_type": "code",
      "source": [
        "all_text = ' '.join(only_text)\n",
        "\n",
        "def find_word_frequency(word):\n",
        "  pattern = fr'\\b{word}\\b'\n",
        "  matches = re.findall(pattern, all_text, re.IGNORECASE)\n",
        "  return f\"The total number of the word in the text: {len(matches)}\"\n",
        "\n",
        "print(find_word_frequency(\"donna\"))"
      ],
      "metadata": {
        "colab": {
          "base_uri": "https://localhost:8080/"
        },
        "id": "7ib-FAs1JvgA",
        "outputId": "7775ef3d-83c6-47a6-fe15-2ea08acd63ba"
      },
      "execution_count": 6,
      "outputs": [
        {
          "output_type": "stream",
          "name": "stdout",
          "text": [
            "The total number of the word in the text: 246\n"
          ]
        }
      ]
    },
    {
      "cell_type": "markdown",
      "source": [
        "A function named **find_word_frequency()** is defined to determine how often a specific word appears in a given text. The function takes a string as input and uses a **regex** pattern with \\b for word boundaries and a **formatted string** to incorporate the word into the pattern."
      ],
      "metadata": {
        "id": "1hGHoRLEkWLE"
      }
    },
    {
      "cell_type": "markdown",
      "source": [
        "# βήμα έκτο - step six\n",
        "\n",
        "Measuring the length of the words"
      ],
      "metadata": {
        "id": "BDE6vEss32CB"
      }
    },
    {
      "cell_type": "code",
      "source": [
        "words = re.findall(r'\\b\\w+\\b', all_text)\n",
        "word_lengths = [len(word) for word in words]\n",
        "length_freq = Counter(word_lengths)\n",
        "print(length_freq)"
      ],
      "metadata": {
        "colab": {
          "base_uri": "https://localhost:8080/"
        },
        "id": "D0r2G70TJSds",
        "outputId": "ff49ca81-7a9f-458c-8fb1-7634c17cad48"
      },
      "execution_count": 7,
      "outputs": [
        {
          "output_type": "stream",
          "name": "stdout",
          "text": [
            "Counter({3: 3486, 4: 3073, 2: 2675, 5: 2248, 1: 1810, 6: 1104, 7: 760, 8: 399, 9: 122, 10: 73, 11: 32, 12: 18, 13: 9, 14: 3, 16: 1, 22: 1})\n"
          ]
        }
      ]
    },
    {
      "cell_type": "markdown",
      "source": [
        "After joining the text into one string (I did it a step earlier), regular expressions find all words by matching word boundaries and sequences of word characters. A list comprehension measures each word's length, and **Counter** calculates the frequency of each length."
      ],
      "metadata": {
        "id": "w_iw3Yp4kgdO"
      }
    },
    {
      "cell_type": "code",
      "source": [
        "print(length_freq.most_common(10))"
      ],
      "metadata": {
        "colab": {
          "base_uri": "https://localhost:8080/"
        },
        "id": "tTPIYLKlJjfD",
        "outputId": "b8104083-d5fe-44c7-e3a4-8bc66f165b07"
      },
      "execution_count": 8,
      "outputs": [
        {
          "output_type": "stream",
          "name": "stdout",
          "text": [
            "[(3, 3486), (4, 3073), (2, 2675), (5, 2248), (1, 1810), (6, 1104), (7, 760), (8, 399), (9, 122), (10, 73)]\n"
          ]
        }
      ]
    },
    {
      "cell_type": "markdown",
      "source": [
        "The **.most_common() method** is used to show only the most frequently occurring letters in a word."
      ],
      "metadata": {
        "id": "9kvVFftxkkQz"
      }
    },
    {
      "cell_type": "code",
      "source": [
        "total_words = len(words)\n",
        "\n",
        "total_letters = 0\n",
        "for word in words:\n",
        "  total_letters += len(word)\n",
        "\n",
        "avg_letters_for_words = total_letters / total_words\n",
        "\n",
        "print(f\"Average word length: {avg_letters_for_words}\")"
      ],
      "metadata": {
        "colab": {
          "base_uri": "https://localhost:8080/"
        },
        "id": "pnoieLVuJkh2",
        "outputId": "c47b1b0c-c73e-4aba-8267-31210b40d531"
      },
      "execution_count": 9,
      "outputs": [
        {
          "output_type": "stream",
          "name": "stdout",
          "text": [
            "Average word length: 3.7232199317060832\n"
          ]
        }
      ]
    },
    {
      "cell_type": "markdown",
      "source": [
        "The total number of words in the text is determined using the **len** function. Then, the length of each word is summed. The average word length is calculated by dividing the total number of letters by the total number of words."
      ],
      "metadata": {
        "id": "fPHb4goDkmS6"
      }
    },
    {
      "cell_type": "markdown",
      "source": [
        "# Sophie and Sky walk off into the horizon as lights fade to black and curtain closes."
      ],
      "metadata": {
        "id": "JmlcAJW2DFnB"
      }
    },
    {
      "cell_type": "markdown",
      "source": [
        "And that's the end of my *Jupyter Mia!* project.\n",
        "\n",
        "I hope that I have successfully used linguistic analysis tools through the use of Python.\n",
        "\n",
        "I managed to successfully, although with many initial failures, complete: Web Scraping, Tokenization and POS Tagging, POS Tag Frequency Analysis, Word Length Analysis, and Word Frequency Analysis."
      ],
      "metadata": {
        "id": "IiGqwur5fNvO"
      }
    }
  ]
}